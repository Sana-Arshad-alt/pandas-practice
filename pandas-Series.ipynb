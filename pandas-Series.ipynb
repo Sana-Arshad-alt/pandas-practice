{
 "cells": [
  {
   "metadata": {
    "ExecuteTime": {
     "end_time": "2025-06-30T02:57:27.393356Z",
     "start_time": "2025-06-30T02:57:24.352246Z"
    }
   },
   "cell_type": "code",
   "source": [
    "import pandas as pd\n",
    "s = pd.Series([1,2,3,4])\n",
    "print(s)"
   ],
   "id": "a016b11c214b9690",
   "outputs": [
    {
     "name": "stdout",
     "output_type": "stream",
     "text": [
      "0    1\n",
      "1    2\n",
      "2    3\n",
      "3    4\n",
      "dtype: int64\n"
     ]
    }
   ],
   "execution_count": 1
  },
  {
   "cell_type": "code",
   "id": "initial_id",
   "metadata": {
    "collapsed": true,
    "ExecuteTime": {
     "end_time": "2025-06-30T03:04:15.980946Z",
     "start_time": "2025-06-30T03:04:15.963703Z"
    }
   },
   "source": [
    "import pandas as pd\n",
    "s=pd.Series([10,20,30,40,50])\n",
    "print(s.mean())"
   ],
   "outputs": [
    {
     "name": "stdout",
     "output_type": "stream",
     "text": [
      "30.0\n"
     ]
    }
   ],
   "execution_count": 3
  },
  {
   "metadata": {
    "ExecuteTime": {
     "end_time": "2025-06-30T05:10:30.690174Z",
     "start_time": "2025-06-30T05:10:30.496237Z"
    }
   },
   "cell_type": "code",
   "source": [
    "import pandas as pd\n",
    "s=pd.Series([35,45,55,65,45,35,55,25,45])\n",
    "print(s.value_counts())\n",
    "print(s.head(3))"
   ],
   "id": "b45cd431322f49fa",
   "outputs": [
    {
     "name": "stdout",
     "output_type": "stream",
     "text": [
      "45    3\n",
      "35    2\n",
      "55    2\n",
      "65    1\n",
      "25    1\n",
      "Name: count, dtype: int64\n",
      "0    35\n",
      "1    45\n",
      "2    55\n",
      "dtype: int64\n"
     ]
    }
   ],
   "execution_count": 9
  },
  {
   "metadata": {
    "ExecuteTime": {
     "end_time": "2025-06-30T05:14:21.647296Z",
     "start_time": "2025-06-30T05:14:21.624796Z"
    }
   },
   "cell_type": "code",
   "source": [
    "import pandas as pd\n",
    "s=pd.Series([35,45,55,65,45,35,55,25,45])\n",
    "print(s.tail())"
   ],
   "id": "9232758b6a24797f",
   "outputs": [
    {
     "name": "stdout",
     "output_type": "stream",
     "text": [
      "4    45\n",
      "5    35\n",
      "6    55\n",
      "7    25\n",
      "8    45\n",
      "dtype: int64\n"
     ]
    }
   ],
   "execution_count": 14
  },
  {
   "metadata": {
    "ExecuteTime": {
     "end_time": "2025-06-30T05:15:35.289203Z",
     "start_time": "2025-06-30T05:15:35.257006Z"
    }
   },
   "cell_type": "code",
   "source": [
    "import pandas as pd\n",
    "s = pd.Series([35,45,55,65,45,35,55,25,45])\n",
    "print(s.size)"
   ],
   "id": "1e6b5af298e3c6f6",
   "outputs": [
    {
     "name": "stdout",
     "output_type": "stream",
     "text": [
      "9\n"
     ]
    }
   ],
   "execution_count": 17
  },
  {
   "metadata": {
    "ExecuteTime": {
     "end_time": "2025-06-30T05:16:36.412581Z",
     "start_time": "2025-06-30T05:16:36.385976Z"
    }
   },
   "cell_type": "code",
   "source": [
    "import pandas as pd\n",
    "s=pd.Series([35,45,55,65,45,35,55,25,45])\n",
    "print(s.shape)"
   ],
   "id": "b6e5a2de83c03a30",
   "outputs": [
    {
     "name": "stdout",
     "output_type": "stream",
     "text": [
      "(9,)\n"
     ]
    }
   ],
   "execution_count": 19
  },
  {
   "metadata": {
    "ExecuteTime": {
     "end_time": "2025-06-30T05:18:03.676238Z",
     "start_time": "2025-06-30T05:18:03.662514Z"
    }
   },
   "cell_type": "code",
   "source": [
    "import pandas as pd\n",
    "s=pd.Series([35,45,55,65,45,35,55,25,45])\n",
    "print(s.dtype)"
   ],
   "id": "49bda06da47ae4fa",
   "outputs": [
    {
     "name": "stdout",
     "output_type": "stream",
     "text": [
      "int64\n"
     ]
    }
   ],
   "execution_count": 21
  },
  {
   "metadata": {
    "ExecuteTime": {
     "end_time": "2025-06-30T05:19:32.651660Z",
     "start_time": "2025-06-30T05:19:32.624651Z"
    }
   },
   "cell_type": "code",
   "source": [
    "import pandas as pd\n",
    "s=pd.Series([35,45,55,65,45,35,55,25,45])\n",
    "print(s.sum())\n",
    "print(s.mean())\n",
    "print(s.median())"
   ],
   "id": "25495328cca17b4f",
   "outputs": [
    {
     "name": "stdout",
     "output_type": "stream",
     "text": [
      "405\n",
      "45.0\n",
      "45.0\n"
     ]
    }
   ],
   "execution_count": 25
  },
  {
   "metadata": {
    "ExecuteTime": {
     "end_time": "2025-06-30T05:20:58.825466Z",
     "start_time": "2025-06-30T05:20:58.796754Z"
    }
   },
   "cell_type": "code",
   "source": [
    "import pandas as pd\n",
    "s=pd.Series([35,45,55,65,45,35,55,25,45])\n",
    "print(s.values)\n",
    "print(s.index)"
   ],
   "id": "8b60bb38d356d536",
   "outputs": [
    {
     "name": "stdout",
     "output_type": "stream",
     "text": [
      "[35 45 55 65 45 35 55 25 45]\n",
      "RangeIndex(start=0, stop=9, step=1)\n"
     ]
    }
   ],
   "execution_count": 28
  },
  {
   "metadata": {
    "ExecuteTime": {
     "end_time": "2025-06-30T05:21:36.467270Z",
     "start_time": "2025-06-30T05:21:36.450132Z"
    }
   },
   "cell_type": "code",
   "source": [
    "import pandas as pd\n",
    "s=pd.Series([35,45,55,65,45,35,55,25,45])\n",
    "print(s.max())\n",
    "print(s.min())"
   ],
   "id": "e40019c46d43c470",
   "outputs": [
    {
     "name": "stdout",
     "output_type": "stream",
     "text": [
      "65\n",
      "25\n"
     ]
    }
   ],
   "execution_count": 30
  },
  {
   "metadata": {
    "ExecuteTime": {
     "end_time": "2025-06-30T05:22:59.357629Z",
     "start_time": "2025-06-30T05:22:59.331593Z"
    }
   },
   "cell_type": "code",
   "source": [
    "import pandas as pd\n",
    "s=pd.Series([35,45,55,65,45,35,55,25,45])\n",
    "print(s.std())\n",
    "print(s.describe())"
   ],
   "id": "6685ad99bf5e6f3f",
   "outputs": [
    {
     "name": "stdout",
     "output_type": "stream",
     "text": [
      "12.24744871391589\n",
      "count     9.000000\n",
      "mean     45.000000\n",
      "std      12.247449\n",
      "min      25.000000\n",
      "25%      35.000000\n",
      "50%      45.000000\n",
      "75%      55.000000\n",
      "max      65.000000\n",
      "dtype: float64\n"
     ]
    }
   ],
   "execution_count": 32
  },
  {
   "metadata": {
    "ExecuteTime": {
     "end_time": "2025-06-30T05:24:05.614703Z",
     "start_time": "2025-06-30T05:24:05.591833Z"
    }
   },
   "cell_type": "code",
   "source": [
    "import pandas as pd\n",
    "s=pd.Series([35,45,55,65,45,35,55,25,45])\n",
    "s.sort_values(ascending=False)"
   ],
   "id": "9ff069643d851813",
   "outputs": [
    {
     "data": {
      "text/plain": [
       "3    65\n",
       "2    55\n",
       "6    55\n",
       "1    45\n",
       "4    45\n",
       "8    45\n",
       "0    35\n",
       "5    35\n",
       "7    25\n",
       "dtype: int64"
      ]
     },
     "execution_count": 34,
     "metadata": {},
     "output_type": "execute_result"
    }
   ],
   "execution_count": 34
  },
  {
   "metadata": {
    "ExecuteTime": {
     "end_time": "2025-06-30T05:25:01.224802Z",
     "start_time": "2025-06-30T05:25:01.207509Z"
    }
   },
   "cell_type": "code",
   "source": [
    "import pandas as pd\n",
    "s=pd.Series([35,45,55,65,45,35,55,25,45])\n",
    "print(s.sort_index())"
   ],
   "id": "db7604431ef2ec00",
   "outputs": [
    {
     "name": "stdout",
     "output_type": "stream",
     "text": [
      "0    35\n",
      "1    45\n",
      "2    55\n",
      "3    65\n",
      "4    45\n",
      "5    35\n",
      "6    55\n",
      "7    25\n",
      "8    45\n",
      "dtype: int64\n"
     ]
    }
   ],
   "execution_count": 36
  },
  {
   "metadata": {
    "ExecuteTime": {
     "end_time": "2025-06-30T05:25:42.973001Z",
     "start_time": "2025-06-30T05:25:42.947303Z"
    }
   },
   "cell_type": "code",
   "source": [
    "import pandas as pd\n",
    "s=pd.Series([35,45,55,65,45,35,55,25,45])\n",
    "print(s.astype(float))"
   ],
   "id": "b0a48968065e5b02",
   "outputs": [
    {
     "name": "stdout",
     "output_type": "stream",
     "text": [
      "0    35.0\n",
      "1    45.0\n",
      "2    55.0\n",
      "3    65.0\n",
      "4    45.0\n",
      "5    35.0\n",
      "6    55.0\n",
      "7    25.0\n",
      "8    45.0\n",
      "dtype: float64\n"
     ]
    }
   ],
   "execution_count": 38
  },
  {
   "metadata": {
    "ExecuteTime": {
     "end_time": "2025-06-30T05:26:28.319369Z",
     "start_time": "2025-06-30T05:26:28.284551Z"
    }
   },
   "cell_type": "code",
   "source": [
    "import pandas as pd\n",
    "s=pd.Series([35,45,55,65,45,35,55,25,45])\n",
    "print(s.duplicated())"
   ],
   "id": "96fb7fbc47a274e",
   "outputs": [
    {
     "name": "stdout",
     "output_type": "stream",
     "text": [
      "0    False\n",
      "1    False\n",
      "2    False\n",
      "3    False\n",
      "4     True\n",
      "5     True\n",
      "6     True\n",
      "7    False\n",
      "8     True\n",
      "dtype: bool\n"
     ]
    }
   ],
   "execution_count": 40
  }
 ],
 "metadata": {
  "kernelspec": {
   "display_name": "Python 3",
   "language": "python",
   "name": "python3"
  },
  "language_info": {
   "codemirror_mode": {
    "name": "ipython",
    "version": 2
   },
   "file_extension": ".py",
   "mimetype": "text/x-python",
   "name": "python",
   "nbconvert_exporter": "python",
   "pygments_lexer": "ipython2",
   "version": "2.7.6"
  }
 },
 "nbformat": 4,
 "nbformat_minor": 5
}
